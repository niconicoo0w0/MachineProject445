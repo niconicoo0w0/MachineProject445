{
 "cells": [
  {
   "cell_type": "code",
   "execution_count": 1,
   "id": "06009655",
   "metadata": {},
   "outputs": [
    {
     "name": "stdout",
     "output_type": "stream",
     "text": [
      "cp: ./utils.py and /Users/niconiconi/Desktop/CS 445/mp2/cs445_proj2_starter_code-2/utils.py are identical (not copied).\n",
      "cp: ./samples and /Users/niconiconi/Desktop/CS 445/mp2/cs445_proj2_starter_code-2/samples are identical (not copied).\n"
     ]
    }
   ],
   "source": [
    "import cv2\n",
    "import numpy as np\n",
    "import matplotlib.pyplot as plt\n",
    "import os\n",
    "import random\n",
    "import time\n",
    "from PIL import Image\n",
    "\n",
    "# modify to where you store your project data including utils.py\n",
    "datadir = \"/Users/niconiconi/Desktop/CS 445/mp2/cs445_proj2_starter_code-2/\"\n",
    "\n",
    "utilfn = datadir + \"utils.py\"\n",
    "!cp \"$utilfn\" .\n",
    "samplesfn = datadir + \"samples\"\n",
    "!cp -r \"$samplesfn\" .\n",
    "import utils"
   ]
  },
  {
   "cell_type": "code",
   "execution_count": 2,
   "id": "c08755f3",
   "metadata": {},
   "outputs": [],
   "source": [
    "from utils import cut # default cut function for seam finding section"
   ]
  },
  {
   "cell_type": "code",
   "execution_count": null,
   "id": "f43e4504",
   "metadata": {},
   "outputs": [],
   "source": [
    "import tensorflow as tf\n",
    "from tensorflow.keras.applications import VGG19\n",
    "from tensorflow.keras.models import Model\n",
    "\n",
    "def build_model():\n",
    "    vgg = VGG19(include_top=False, weights='imagenet')\n",
    "    vgg.trainable = False\n",
    "    style_layers = ['block1_conv1', 'block2_conv1', 'block3_conv1', 'block4_conv1']\n",
    "    content_layers = ['block5_conv2']\n",
    "    style_outputs = [vgg.get_layer(name).output for name in style_layers]\n",
    "    content_outputs = [vgg.get_layer(name).output for name in content_layers]\n",
    "    model_outputs = style_outputs + content_outputs\n",
    "    return Model(inputs=vgg.input, outputs=model_outputs)\n",
    "\n",
    "model = build_model()\n"
   ]
  },
  {
   "cell_type": "code",
   "execution_count": null,
   "id": "11af0679",
   "metadata": {},
   "outputs": [],
   "source": []
  }
 ],
 "metadata": {
  "kernelspec": {
   "display_name": "Python 3 (ipykernel)",
   "language": "python",
   "name": "python3"
  },
  "language_info": {
   "codemirror_mode": {
    "name": "ipython",
    "version": 3
   },
   "file_extension": ".py",
   "mimetype": "text/x-python",
   "name": "python",
   "nbconvert_exporter": "python",
   "pygments_lexer": "ipython3",
   "version": "3.9.12"
  }
 },
 "nbformat": 4,
 "nbformat_minor": 5
}
